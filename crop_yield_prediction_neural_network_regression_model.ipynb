{
  "nbformat": 4,
  "nbformat_minor": 0,
  "metadata": {
    "colab": {
      "provenance": [],
      "gpuType": "T4",
      "toc_visible": true,
      "mount_file_id": "1OmcT1VkjadXhUQKu1AMPXv8LceSMaD_5",
      "authorship_tag": "ABX9TyNuSOPl0Jl2llgjIs4kexoA",
      "include_colab_link": true
    },
    "kernelspec": {
      "name": "python3",
      "display_name": "Python 3"
    },
    "language_info": {
      "name": "python"
    },
    "accelerator": "GPU"
  },
  "cells": [
    {
      "cell_type": "markdown",
      "metadata": {
        "id": "view-in-github",
        "colab_type": "text"
      },
      "source": [
        "<a href=\"https://colab.research.google.com/github/mikias-wondim/Crop_Yield_Prediction_Regression_Neural_Network_Model_in_TensorFlow/blob/main/crop_yield_prediction_neural_network_regression_model.ipynb\" target=\"_parent\"><img src=\"https://colab.research.google.com/assets/colab-badge.svg\" alt=\"Open In Colab\"/></a>"
      ]
    },
    {
      "cell_type": "markdown",
      "source": [
        "# Neural Network Regression\n",
        "Regression using neural networks in TensorFlow involves training a model to predict a continuous numerical value (the target variable) based on a set of input features. Here's a general overview of the process:\n",
        "\n",
        "1. Data Preparation:\n",
        "\n",
        "Gather your dataset containing input features and the target variable.\n",
        "Preprocess the data by scaling and normalizing the features.\n",
        "Split the data into training and validation sets.\n",
        "\n",
        "2. Model Architecture:\n",
        "\n",
        "Define the neural network architecture using the TensorFlow Keras API.\n",
        "Choose an appropriate activation function for the output layer based on the nature of the target variable (e.g., linear for continuous values).\n",
        "Define the loss function and optimizer to train the model.\n",
        "\n",
        "3. Model Training:\n",
        "\n",
        "Train the model using the fit() method, specifying the training data, number of epochs, and validation data.\n",
        "Monitor the training process and evaluate the model's performance on the validation set.\n",
        "\n",
        "4. Predictions:\n",
        "\n",
        "Once trained, use the model to predict the target variable for new unseen input features.\n",
        "\n"
      ],
      "metadata": {
        "id": "dLT8WxHA_VkX"
      }
    },
    {
      "cell_type": "markdown",
      "source": [],
      "metadata": {
        "id": "I7ntTl6iEV55"
      }
    },
    {
      "source": [
        "# Importing pandas library\n",
        "import pandas as pd\n",
        "\n",
        "# Load the sample data into a Pandas DataFrame\n",
        "data = pd.read_csv('/content/sample_data/california_housing_train.csv')\n",
        "\n",
        "# Spliting the feature to target from the dataset\n",
        "train_data = data.iloc[:, 0:9]\n",
        "test_data = data.iloc[:, -1]"
      ],
      "cell_type": "code",
      "metadata": {
        "id": "6KDUwxpUKunm"
      },
      "execution_count": null,
      "outputs": []
    },
    {
      "source": [
        "# Scale the features\n",
        "from sklearn.preprocessing import StandardScaler\n",
        "\n",
        "scaler = StandardScaler()\n",
        "train_data = scaler.fit_transform(train_data)\n",
        "\n",
        "# Split the data into training and validation sets\n",
        "from sklearn.model_selection import train_test_split\n",
        "\n",
        "X_train, X_val, y_train, y_val = train_test_split(train_data,\n",
        "                                                  test_data,\n",
        "                                                  test_size=0.2)"
      ],
      "cell_type": "code",
      "metadata": {
        "id": "3-atiuu_Ku-t"
      },
      "execution_count": null,
      "outputs": []
    },
    {
      "source": [
        "import tensorflow as tf\n",
        "\n",
        "# Define the model using Sequential API\n",
        "model = tf.keras.Sequential([\n",
        "    tf.keras.layers.Dense(100, activation='relu'),\n",
        "    tf.keras.layers.Dense(1)\n",
        "])\n",
        "\n",
        "# Compile the model with loss function of MSE and Adam's Optimizer\n",
        "model.compile(loss='mse', optimizer= tf.keras.optimizers.Adam(), metrics=['mse'])\n",
        "\n",
        "# Fit (Train) the model with 50 epochs, also uses a validation data\n",
        "model.fit(X_train, y_train, epochs=10, validation_data=(X_val, y_val), verbose=0)"
      ],
      "cell_type": "code",
      "metadata": {
        "colab": {
          "base_uri": "https://localhost:8080/"
        },
        "id": "onz22jFiKwAR",
        "outputId": "44be4ede-21e9-4451-8900-70f6894de77b"
      },
      "execution_count": null,
      "outputs": [
        {
          "output_type": "execute_result",
          "data": {
            "text/plain": [
              "<keras.src.callbacks.History at 0x7b22377b4b80>"
            ]
          },
          "metadata": {},
          "execution_count": 20
        }
      ]
    },
    {
      "source": [
        "# Importing test set\n",
        "test_data = pd.read_csv('/content/sample_data/california_housing_test.csv')\n",
        "X_test_data = test_data.iloc[:, 0:9]\n",
        "y_test_data = test_data.iloc[:, -1]\n",
        "\n",
        "# Evaluate the model on the test set\n",
        "loss = model.evaluate(X_test_data, y_test_data)\n",
        "print(f'Validation loss: {loss}')"
      ],
      "cell_type": "code",
      "metadata": {
        "colab": {
          "base_uri": "https://localhost:8080/"
        },
        "id": "GoeL0qL6KxAU",
        "outputId": "8abd926c-06fe-47e9-f1d8-7576de0184ed"
      },
      "execution_count": null,
      "outputs": [
        {
          "output_type": "stream",
          "name": "stdout",
          "text": [
            "94/94 [==============================] - 0s 2ms/step - loss: 318470141371219968.0000 - mse: 318470141371219968.0000\n",
            "Validation loss: [3.1847014137122e+17, 3.1847014137122e+17]\n"
          ]
        }
      ]
    },
    {
      "cell_type": "markdown",
      "source": [
        "### Ways of improving the model\n",
        "* One basic and crucial way to improve a deep model would be to tweak the hyperparameters\n",
        "\n",
        "**A hyperparameter** is a parameter whose value is set before the learning process begins. This is in contrast to model parameters, which are learned during the training process.\n",
        "\n",
        "Some basic and important hyperparameters in deep learning include:\n",
        "\n",
        "* **Learning rate**: This determines how quickly the model updates its parameters based on the training data.\n",
        "* **Batch size** : This is the number of training examples used in each iteration of the training process.\n",
        "* **Number of epochs**: This is the number of times the model iterates through the entire training dataset.\n",
        "* **Number of layers**: This is the number of hidden layers in the model.\n",
        "* **Number of units per layer**: This is the number of neurons in each hidden layer.\n",
        "* **Activation function**: This is the function used to compute the output of each neuron.\n",
        "* **Optimizer**: This is the algorithm used to update the model's parameters.\n",
        "* **Regularization parameters**: These are parameters used to prevent overfitting, such as the L1 or L2 penalty."
      ],
      "metadata": {
        "id": "06ZXaMYpO68H"
      }
    },
    {
      "cell_type": "code",
      "source": [
        "# Lets tweak the number of layers, activation function, number of epoch\n",
        "\n",
        "# Define the model using Sequential API with one extra layer\n",
        "model = tf.keras.Sequential([\n",
        "    tf.keras.layers.Dense(100, activation='relu'),\n",
        "    tf.keras.layers.Dense(1)\n",
        "])\n",
        "\n",
        "# Compile the model with loss function of MSE and Adam's Optimizer\n",
        "model.compile(loss='mse', optimizer=tf.keras.optimizers.Adam(), metrics=['mse'])\n",
        "\n",
        "# Fit (Train) the model with 50 epochs, also uses a validation data\n",
        "model.fit(X_train, y_train, epochs=50, validation_data=(X_val, y_val))"
      ],
      "metadata": {
        "id": "Fk2SLtorRSbJ"
      },
      "execution_count": null,
      "outputs": []
    },
    {
      "cell_type": "code",
      "source": [
        "import numpy as np\n",
        "\n",
        "# Evaluate the new model on the test set\n",
        "previous_loss = loss\n",
        "loss = model.evaluate(X_test_data, y_test_data)\n",
        "print(f'Previous Validation loss: {loss}')\n",
        "print(f'Validation loss: {loss}')\n",
        "print(f'The difference in loss is: {np.array(previous_loss) - np.array(loss)}')"
      ],
      "metadata": {
        "colab": {
          "base_uri": "https://localhost:8080/"
        },
        "id": "c5T7WSXsRt03",
        "outputId": "fbdebb96-6516-415b-88e0-fe852add3038"
      },
      "execution_count": null,
      "outputs": [
        {
          "output_type": "stream",
          "name": "stdout",
          "text": [
            "94/94 [==============================] - 0s 4ms/step - loss: 89602413121419345920.0000 - mse: 89602413121419345920.0000\n",
            "Previous Validation loss: [8.960241312141935e+19, 8.960241312141935e+19]\n",
            "Validation loss: [8.960241312141935e+19, 8.960241312141935e+19]\n",
            "The difference in loss is: [0. 0.]\n"
          ]
        }
      ]
    },
    {
      "cell_type": "markdown",
      "source": [
        "### Building and Saving a Model\n",
        "There are **two** formats of saving a model\n",
        "1. **SaverModel** is the default format for saving TensorFlow models. It saves the model definition, the weights, and the optimizer state. This format is typically used when you want to save a model that you can later restore and continue training.\n",
        "\n",
        "1. **H5** is a HDF5 file format that can be used to save TensorFlow models. It saves only the weights of the model, not the model definition or the optimizer state. This format is typically used when you want to save a model that you have trained and you don't need to be able to restore it and continue training.\n",
        "\n",
        "\n",
        "**Note:** If you want to save a model that you can later restore and continue training, you should use the **SaverModel** format. If you want to save a model that you have trained and you don't need to be able to restore it and continue training, you can use the H5 format.\n"
      ],
      "metadata": {
        "id": "n2Ynoz9v7OU7"
      }
    },
    {
      "cell_type": "markdown",
      "source": [
        "First lets preprocess out data"
      ],
      "metadata": {
        "id": "KPe22NOK_E-a"
      }
    },
    {
      "cell_type": "code",
      "source": [
        "# Lets build a model from scratch based on dataset from the sampledata in colab\n",
        "\n",
        "# Import libraries\n",
        "import pandas as pd\n",
        "import tensorflow as tf\n",
        "import matplotlib.pyplot as plt\n",
        "\n",
        "# Importing dataset\n",
        "dataset = pd.read_csv('/content/sample_data/california_housing_train.csv')\n",
        "\n",
        "# Separating feature and target from the dataset\n",
        "X = dataset.drop('median_house_value', axis=1)\n",
        "y = dataset['median_house_value']\n",
        "\n",
        "# Feature Scaling\n",
        "from sklearn.preprocessing import StandardScaler\n",
        "scaler = StandardScaler()\n",
        "train_data = scaler.fit_transform(X)\n",
        "\n",
        "# Split the data into training and validation sets\n",
        "from sklearn.model_selection import train_test_split\n",
        "X_train, X_test, y_train, y_test = train_test_split(X,\n",
        "                                                  y,\n",
        "                                                  test_size=0.2)"
      ],
      "metadata": {
        "id": "U1VULnHP8_pY"
      },
      "execution_count": null,
      "outputs": []
    },
    {
      "cell_type": "markdown",
      "source": [
        "Now lets build our deep net model"
      ],
      "metadata": {
        "id": "AQSzIKfR_LCN"
      }
    },
    {
      "cell_type": "code",
      "source": [
        "# Set the seed\n",
        "tf.random.set_seed(21)\n",
        "\n",
        "# 1. Create the model\n",
        "housing_model = tf.keras.Sequential([\n",
        "    tf.keras.layers.Dense(100, activation='relu'),\n",
        "    tf.keras.layers.Dense(1)\n",
        "])\n",
        "\n",
        "# 2. Compile the model\n",
        "housing_model.compile(loss=tf.keras.losses.MeanSquaredError(),\n",
        "                      optimizer=tf.keras.optimizers.Adam(),\n",
        "                      metrics=['mse'])\n",
        "\n",
        "# 3. Fit the model\n",
        "history = housing_model.fit(X_train, y_train, epochs=50)"
      ],
      "metadata": {
        "colab": {
          "base_uri": "https://localhost:8080/"
        },
        "id": "Udkd-dBJ_S_I",
        "outputId": "8fd52fce-6ba6-4cf1-a9be-67006d708aad"
      },
      "execution_count": null,
      "outputs": [
        {
          "output_type": "stream",
          "name": "stdout",
          "text": [
            "Epoch 1/50\n",
            "425/425 [==============================] - 2s 2ms/step - loss: 43054309376.0000 - mse: 43054309376.0000\n",
            "Epoch 2/50\n",
            "425/425 [==============================] - 1s 2ms/step - loss: 27471835136.0000 - mse: 27471835136.0000\n",
            "Epoch 3/50\n",
            "425/425 [==============================] - 1s 2ms/step - loss: 26661926912.0000 - mse: 26661926912.0000\n",
            "Epoch 4/50\n",
            "425/425 [==============================] - 1s 2ms/step - loss: 26056802304.0000 - mse: 26056802304.0000\n",
            "Epoch 5/50\n",
            "425/425 [==============================] - 1s 3ms/step - loss: 25256220672.0000 - mse: 25256220672.0000\n",
            "Epoch 6/50\n",
            "425/425 [==============================] - 1s 3ms/step - loss: 24346105856.0000 - mse: 24346105856.0000\n",
            "Epoch 7/50\n",
            "425/425 [==============================] - 1s 2ms/step - loss: 23316078592.0000 - mse: 23316078592.0000\n",
            "Epoch 8/50\n",
            "425/425 [==============================] - 1s 2ms/step - loss: 22144952320.0000 - mse: 22144952320.0000\n",
            "Epoch 9/50\n",
            "425/425 [==============================] - 1s 2ms/step - loss: 20892770304.0000 - mse: 20892770304.0000\n",
            "Epoch 10/50\n",
            "425/425 [==============================] - 1s 2ms/step - loss: 19552776192.0000 - mse: 19552776192.0000\n",
            "Epoch 11/50\n",
            "425/425 [==============================] - 1s 2ms/step - loss: 18166677504.0000 - mse: 18166677504.0000\n",
            "Epoch 12/50\n",
            "425/425 [==============================] - 1s 2ms/step - loss: 16803066880.0000 - mse: 16803066880.0000\n",
            "Epoch 13/50\n",
            "425/425 [==============================] - 1s 2ms/step - loss: 15532098560.0000 - mse: 15532098560.0000\n",
            "Epoch 14/50\n",
            "425/425 [==============================] - 1s 2ms/step - loss: 14409521152.0000 - mse: 14409521152.0000\n",
            "Epoch 15/50\n",
            "425/425 [==============================] - 1s 2ms/step - loss: 13464861696.0000 - mse: 13464861696.0000\n",
            "Epoch 16/50\n",
            "425/425 [==============================] - 1s 2ms/step - loss: 12746780672.0000 - mse: 12746780672.0000\n",
            "Epoch 17/50\n",
            "425/425 [==============================] - 1s 3ms/step - loss: 12256268288.0000 - mse: 12256268288.0000\n",
            "Epoch 18/50\n",
            "425/425 [==============================] - 1s 3ms/step - loss: 11932390400.0000 - mse: 11932390400.0000\n",
            "Epoch 19/50\n",
            "425/425 [==============================] - 1s 2ms/step - loss: 11752323072.0000 - mse: 11752323072.0000\n",
            "Epoch 20/50\n",
            "425/425 [==============================] - 1s 2ms/step - loss: 11645371392.0000 - mse: 11645371392.0000\n",
            "Epoch 21/50\n",
            "425/425 [==============================] - 1s 2ms/step - loss: 11570775040.0000 - mse: 11570775040.0000\n",
            "Epoch 22/50\n",
            "425/425 [==============================] - 1s 2ms/step - loss: 11507488768.0000 - mse: 11507488768.0000\n",
            "Epoch 23/50\n",
            "425/425 [==============================] - 1s 2ms/step - loss: 11471285248.0000 - mse: 11471285248.0000\n",
            "Epoch 24/50\n",
            "425/425 [==============================] - 1s 2ms/step - loss: 11419806720.0000 - mse: 11419806720.0000\n",
            "Epoch 25/50\n",
            "425/425 [==============================] - 1s 2ms/step - loss: 11366641664.0000 - mse: 11366641664.0000\n",
            "Epoch 26/50\n",
            "425/425 [==============================] - 1s 2ms/step - loss: 11318876160.0000 - mse: 11318876160.0000\n",
            "Epoch 27/50\n",
            "425/425 [==============================] - 1s 2ms/step - loss: 11270813696.0000 - mse: 11270813696.0000\n",
            "Epoch 28/50\n",
            "425/425 [==============================] - 1s 3ms/step - loss: 11213268992.0000 - mse: 11213268992.0000\n",
            "Epoch 29/50\n",
            "425/425 [==============================] - 1s 3ms/step - loss: 11155303424.0000 - mse: 11155303424.0000\n",
            "Epoch 30/50\n",
            "425/425 [==============================] - 1s 2ms/step - loss: 11106870272.0000 - mse: 11106870272.0000\n",
            "Epoch 31/50\n",
            "425/425 [==============================] - 1s 3ms/step - loss: 11053262848.0000 - mse: 11053262848.0000\n",
            "Epoch 32/50\n",
            "425/425 [==============================] - 1s 2ms/step - loss: 11002992640.0000 - mse: 11002992640.0000\n",
            "Epoch 33/50\n",
            "425/425 [==============================] - 1s 2ms/step - loss: 10959034368.0000 - mse: 10959034368.0000\n",
            "Epoch 34/50\n",
            "425/425 [==============================] - 1s 2ms/step - loss: 10898489344.0000 - mse: 10898489344.0000\n",
            "Epoch 35/50\n",
            "425/425 [==============================] - 1s 3ms/step - loss: 10846248960.0000 - mse: 10846248960.0000\n",
            "Epoch 36/50\n",
            "425/425 [==============================] - 1s 2ms/step - loss: 10798625792.0000 - mse: 10798625792.0000\n",
            "Epoch 37/50\n",
            "425/425 [==============================] - 1s 2ms/step - loss: 10746186752.0000 - mse: 10746186752.0000\n",
            "Epoch 38/50\n",
            "425/425 [==============================] - 1s 2ms/step - loss: 10696173568.0000 - mse: 10696173568.0000\n",
            "Epoch 39/50\n",
            "425/425 [==============================] - 1s 3ms/step - loss: 10638917632.0000 - mse: 10638917632.0000\n",
            "Epoch 40/50\n",
            "425/425 [==============================] - 2s 4ms/step - loss: 10592533504.0000 - mse: 10592533504.0000\n",
            "Epoch 41/50\n",
            "425/425 [==============================] - 1s 2ms/step - loss: 10544673792.0000 - mse: 10544673792.0000\n",
            "Epoch 42/50\n",
            "425/425 [==============================] - 1s 3ms/step - loss: 10491493376.0000 - mse: 10491493376.0000\n",
            "Epoch 43/50\n",
            "425/425 [==============================] - 1s 2ms/step - loss: 10445300736.0000 - mse: 10445300736.0000\n",
            "Epoch 44/50\n",
            "425/425 [==============================] - 1s 2ms/step - loss: 10396496896.0000 - mse: 10396496896.0000\n",
            "Epoch 45/50\n",
            "425/425 [==============================] - 1s 3ms/step - loss: 10342349824.0000 - mse: 10342349824.0000\n",
            "Epoch 46/50\n",
            "425/425 [==============================] - 2s 4ms/step - loss: 10308209664.0000 - mse: 10308209664.0000\n",
            "Epoch 47/50\n",
            "425/425 [==============================] - 1s 3ms/step - loss: 10247548928.0000 - mse: 10247548928.0000\n",
            "Epoch 48/50\n",
            "425/425 [==============================] - 2s 4ms/step - loss: 10201149440.0000 - mse: 10201149440.0000\n",
            "Epoch 49/50\n",
            "425/425 [==============================] - 2s 4ms/step - loss: 10151283712.0000 - mse: 10151283712.0000\n",
            "Epoch 50/50\n",
            "425/425 [==============================] - 1s 2ms/step - loss: 10113657856.0000 - mse: 10113657856.0000\n"
          ]
        }
      ]
    },
    {
      "cell_type": "code",
      "source": [
        "# Evaluating the prediction(performance) of the model\n",
        "housing_model.evaluate(X_test, y_test)"
      ],
      "metadata": {
        "colab": {
          "base_uri": "https://localhost:8080/"
        },
        "id": "t72SDIAkAaIa",
        "outputId": "a46824a8-149c-4799-bef5-6055ca495b47"
      },
      "execution_count": null,
      "outputs": [
        {
          "output_type": "stream",
          "name": "stdout",
          "text": [
            "107/107 [==============================] - 1s 3ms/step - loss: 9443993600.0000 - mse: 9443993600.0000\n"
          ]
        },
        {
          "output_type": "execute_result",
          "data": {
            "text/plain": [
              "[9443993600.0, 9443993600.0]"
            ]
          },
          "metadata": {},
          "execution_count": 25
        }
      ]
    },
    {
      "cell_type": "markdown",
      "source": [
        "Make some changes on the number of layers and hidden units, as well as the learning rate and number of epochs"
      ],
      "metadata": {
        "id": "es3NF6DdE134"
      }
    },
    {
      "cell_type": "code",
      "source": [
        "# Set the seed\n",
        "tf.random.set_seed(21)\n",
        "\n",
        "# 1. Create the model\n",
        "housing_model = tf.keras.Sequential([\n",
        "    tf.keras.layers.Dense(100, activation='relu'),\n",
        "    tf.keras.layers.Dense(100, activation='relu'),\n",
        "    tf.keras.layers.Dense(10, activation='relu'),\n",
        "    tf.keras.layers.Dense(1)\n",
        "])\n",
        "\n",
        "# 2. Compile the model\n",
        "housing_model.compile(loss=tf.keras.losses.MeanSquaredError(),\n",
        "                      optimizer=tf.keras.optimizers.Adam(learning_rate=0.001),\n",
        "                      metrics=['mse'])\n",
        "\n",
        "# 3. Fit the model\n",
        "history = housing_model.fit(X_train, y_train, epochs=100)"
      ],
      "metadata": {
        "colab": {
          "base_uri": "https://localhost:8080/"
        },
        "id": "S4XKeClnFAa0",
        "outputId": "45949327-8cfb-4f6c-842a-0b344e5c7583"
      },
      "execution_count": null,
      "outputs": [
        {
          "output_type": "stream",
          "name": "stderr",
          "text": [
            "WARNING:absl:`lr` is deprecated in Keras optimizer, please use `learning_rate` or use the legacy optimizer, e.g.,tf.keras.optimizers.legacy.Adam.\n"
          ]
        },
        {
          "output_type": "stream",
          "name": "stdout",
          "text": [
            "Epoch 1/100\n",
            "425/425 [==============================] - 2s 3ms/step - loss: 31445794816.0000 - mse: 31445794816.0000\n",
            "Epoch 2/100\n",
            "425/425 [==============================] - 1s 3ms/step - loss: 19681918976.0000 - mse: 19681918976.0000\n",
            "Epoch 3/100\n",
            "425/425 [==============================] - 1s 3ms/step - loss: 11758156800.0000 - mse: 11758156800.0000\n",
            "Epoch 4/100\n",
            "425/425 [==============================] - 1s 3ms/step - loss: 11111197696.0000 - mse: 11111197696.0000\n",
            "Epoch 5/100\n",
            "425/425 [==============================] - 1s 3ms/step - loss: 10755203072.0000 - mse: 10755203072.0000\n",
            "Epoch 6/100\n",
            "425/425 [==============================] - 2s 4ms/step - loss: 10467698688.0000 - mse: 10467698688.0000\n",
            "Epoch 7/100\n",
            "425/425 [==============================] - 1s 3ms/step - loss: 10147547136.0000 - mse: 10147547136.0000\n",
            "Epoch 8/100\n",
            "425/425 [==============================] - 1s 3ms/step - loss: 9793576960.0000 - mse: 9793576960.0000\n",
            "Epoch 9/100\n",
            "425/425 [==============================] - 1s 3ms/step - loss: 9452828672.0000 - mse: 9452828672.0000\n",
            "Epoch 10/100\n",
            "425/425 [==============================] - 1s 3ms/step - loss: 9109983232.0000 - mse: 9109983232.0000\n",
            "Epoch 11/100\n",
            "425/425 [==============================] - 2s 4ms/step - loss: 8697693184.0000 - mse: 8697693184.0000\n",
            "Epoch 12/100\n",
            "425/425 [==============================] - 1s 4ms/step - loss: 8284081664.0000 - mse: 8284081664.0000\n",
            "Epoch 13/100\n",
            "425/425 [==============================] - 1s 3ms/step - loss: 8003787776.0000 - mse: 8003787776.0000\n",
            "Epoch 14/100\n",
            "425/425 [==============================] - 1s 3ms/step - loss: 7705266688.0000 - mse: 7705266688.0000\n",
            "Epoch 15/100\n",
            "425/425 [==============================] - 2s 4ms/step - loss: 7445191168.0000 - mse: 7445191168.0000\n",
            "Epoch 16/100\n",
            "425/425 [==============================] - 1s 3ms/step - loss: 7201393152.0000 - mse: 7201393152.0000\n",
            "Epoch 17/100\n",
            "425/425 [==============================] - 1s 3ms/step - loss: 7131367936.0000 - mse: 7131367936.0000\n",
            "Epoch 18/100\n",
            "425/425 [==============================] - 1s 3ms/step - loss: 6829009920.0000 - mse: 6829009920.0000\n",
            "Epoch 19/100\n",
            "425/425 [==============================] - 1s 3ms/step - loss: 6704089088.0000 - mse: 6704089088.0000\n",
            "Epoch 20/100\n",
            "425/425 [==============================] - 1s 3ms/step - loss: 6679647232.0000 - mse: 6679647232.0000\n",
            "Epoch 21/100\n",
            "425/425 [==============================] - 1s 3ms/step - loss: 6377538048.0000 - mse: 6377538048.0000\n",
            "Epoch 22/100\n",
            "425/425 [==============================] - 1s 3ms/step - loss: 6287364608.0000 - mse: 6287364608.0000\n",
            "Epoch 23/100\n",
            "425/425 [==============================] - 1s 3ms/step - loss: 6119299584.0000 - mse: 6119299584.0000\n",
            "Epoch 24/100\n",
            "425/425 [==============================] - 2s 4ms/step - loss: 6075262976.0000 - mse: 6075262976.0000\n",
            "Epoch 25/100\n",
            "425/425 [==============================] - 1s 3ms/step - loss: 5928498176.0000 - mse: 5928498176.0000\n",
            "Epoch 26/100\n",
            "425/425 [==============================] - 1s 3ms/step - loss: 5837084160.0000 - mse: 5837084160.0000\n",
            "Epoch 27/100\n",
            "425/425 [==============================] - 1s 3ms/step - loss: 5770961408.0000 - mse: 5770961408.0000\n",
            "Epoch 28/100\n",
            "425/425 [==============================] - 1s 3ms/step - loss: 5593520640.0000 - mse: 5593520640.0000\n",
            "Epoch 29/100\n",
            "425/425 [==============================] - 1s 3ms/step - loss: 5543237120.0000 - mse: 5543237120.0000\n",
            "Epoch 30/100\n",
            "425/425 [==============================] - 1s 3ms/step - loss: 5464337408.0000 - mse: 5464337408.0000\n",
            "Epoch 31/100\n",
            "425/425 [==============================] - 1s 3ms/step - loss: 5423429120.0000 - mse: 5423429120.0000\n",
            "Epoch 32/100\n",
            "425/425 [==============================] - 1s 3ms/step - loss: 5346040832.0000 - mse: 5346040832.0000\n",
            "Epoch 33/100\n",
            "425/425 [==============================] - 1s 3ms/step - loss: 5213631488.0000 - mse: 5213631488.0000\n",
            "Epoch 34/100\n",
            "425/425 [==============================] - 2s 4ms/step - loss: 5138473472.0000 - mse: 5138473472.0000\n",
            "Epoch 35/100\n",
            "425/425 [==============================] - 1s 3ms/step - loss: 5083664384.0000 - mse: 5083664384.0000\n",
            "Epoch 36/100\n",
            "425/425 [==============================] - 1s 3ms/step - loss: 5095970304.0000 - mse: 5095970304.0000\n",
            "Epoch 37/100\n",
            "425/425 [==============================] - 1s 3ms/step - loss: 5019024896.0000 - mse: 5019024896.0000\n",
            "Epoch 38/100\n",
            "425/425 [==============================] - 1s 3ms/step - loss: 4982514176.0000 - mse: 4982514176.0000\n",
            "Epoch 39/100\n",
            "425/425 [==============================] - 1s 3ms/step - loss: 4947759616.0000 - mse: 4947759616.0000\n",
            "Epoch 40/100\n",
            "425/425 [==============================] - 1s 3ms/step - loss: 4944248320.0000 - mse: 4944248320.0000\n",
            "Epoch 41/100\n",
            "425/425 [==============================] - 1s 3ms/step - loss: 4861705728.0000 - mse: 4861705728.0000\n",
            "Epoch 42/100\n",
            "425/425 [==============================] - 2s 4ms/step - loss: 4895641088.0000 - mse: 4895641088.0000\n",
            "Epoch 43/100\n",
            "425/425 [==============================] - 2s 4ms/step - loss: 4847567872.0000 - mse: 4847567872.0000\n",
            "Epoch 44/100\n",
            "425/425 [==============================] - 2s 4ms/step - loss: 4843041280.0000 - mse: 4843041280.0000\n",
            "Epoch 45/100\n",
            "425/425 [==============================] - 1s 3ms/step - loss: 4764499456.0000 - mse: 4764499456.0000\n",
            "Epoch 46/100\n",
            "425/425 [==============================] - 1s 3ms/step - loss: 4757032960.0000 - mse: 4757032960.0000\n",
            "Epoch 47/100\n",
            "425/425 [==============================] - 1s 3ms/step - loss: 4805941760.0000 - mse: 4805941760.0000\n",
            "Epoch 48/100\n",
            "425/425 [==============================] - 2s 4ms/step - loss: 4764987392.0000 - mse: 4764987392.0000\n",
            "Epoch 49/100\n",
            "425/425 [==============================] - 2s 4ms/step - loss: 4688776704.0000 - mse: 4688776704.0000\n",
            "Epoch 50/100\n",
            "425/425 [==============================] - 2s 4ms/step - loss: 4710372352.0000 - mse: 4710372352.0000\n",
            "Epoch 51/100\n",
            "425/425 [==============================] - 2s 4ms/step - loss: 4666695680.0000 - mse: 4666695680.0000\n",
            "Epoch 52/100\n",
            "425/425 [==============================] - 1s 3ms/step - loss: 4778611712.0000 - mse: 4778611712.0000\n",
            "Epoch 53/100\n",
            "425/425 [==============================] - 1s 3ms/step - loss: 4749569536.0000 - mse: 4749569536.0000\n",
            "Epoch 54/100\n",
            "425/425 [==============================] - 1s 3ms/step - loss: 4670245376.0000 - mse: 4670245376.0000\n",
            "Epoch 55/100\n",
            "425/425 [==============================] - 1s 3ms/step - loss: 4693631488.0000 - mse: 4693631488.0000\n",
            "Epoch 56/100\n",
            "425/425 [==============================] - 1s 3ms/step - loss: 4595177472.0000 - mse: 4595177472.0000\n",
            "Epoch 57/100\n",
            "425/425 [==============================] - 1s 3ms/step - loss: 4746992640.0000 - mse: 4746992640.0000\n",
            "Epoch 58/100\n",
            "425/425 [==============================] - 1s 3ms/step - loss: 4595156480.0000 - mse: 4595156480.0000\n",
            "Epoch 59/100\n",
            "425/425 [==============================] - 1s 3ms/step - loss: 4598602240.0000 - mse: 4598602240.0000\n",
            "Epoch 60/100\n",
            "425/425 [==============================] - 1s 3ms/step - loss: 4610149888.0000 - mse: 4610149888.0000\n",
            "Epoch 61/100\n",
            "425/425 [==============================] - 2s 4ms/step - loss: 4647122432.0000 - mse: 4647122432.0000\n",
            "Epoch 62/100\n",
            "425/425 [==============================] - 1s 3ms/step - loss: 4603550208.0000 - mse: 4603550208.0000\n",
            "Epoch 63/100\n",
            "425/425 [==============================] - 1s 3ms/step - loss: 4680408064.0000 - mse: 4680408064.0000\n",
            "Epoch 64/100\n",
            "425/425 [==============================] - 1s 3ms/step - loss: 4572984832.0000 - mse: 4572984832.0000\n",
            "Epoch 65/100\n",
            "425/425 [==============================] - 1s 3ms/step - loss: 4625582080.0000 - mse: 4625582080.0000\n",
            "Epoch 66/100\n",
            "425/425 [==============================] - 1s 3ms/step - loss: 4589914624.0000 - mse: 4589914624.0000\n",
            "Epoch 67/100\n",
            "425/425 [==============================] - 1s 3ms/step - loss: 4610851840.0000 - mse: 4610851840.0000\n",
            "Epoch 68/100\n",
            "425/425 [==============================] - 1s 3ms/step - loss: 4517941248.0000 - mse: 4517941248.0000\n",
            "Epoch 69/100\n",
            "425/425 [==============================] - 1s 3ms/step - loss: 4479711744.0000 - mse: 4479711744.0000\n",
            "Epoch 70/100\n",
            "425/425 [==============================] - 1s 3ms/step - loss: 4552681472.0000 - mse: 4552681472.0000\n",
            "Epoch 71/100\n",
            "425/425 [==============================] - 2s 4ms/step - loss: 4557770240.0000 - mse: 4557770240.0000\n",
            "Epoch 72/100\n",
            "425/425 [==============================] - 1s 3ms/step - loss: 4493088768.0000 - mse: 4493088768.0000\n",
            "Epoch 73/100\n",
            "425/425 [==============================] - 1s 3ms/step - loss: 4470743040.0000 - mse: 4470743040.0000\n",
            "Epoch 74/100\n",
            "425/425 [==============================] - 2s 4ms/step - loss: 4517278720.0000 - mse: 4517278720.0000\n",
            "Epoch 75/100\n",
            "425/425 [==============================] - 2s 4ms/step - loss: 4513308160.0000 - mse: 4513308160.0000\n",
            "Epoch 76/100\n",
            "425/425 [==============================] - 2s 4ms/step - loss: 4521124864.0000 - mse: 4521124864.0000\n",
            "Epoch 77/100\n",
            "425/425 [==============================] - 2s 4ms/step - loss: 4522140160.0000 - mse: 4522140160.0000\n",
            "Epoch 78/100\n",
            "425/425 [==============================] - 2s 5ms/step - loss: 4428036096.0000 - mse: 4428036096.0000\n",
            "Epoch 79/100\n",
            "425/425 [==============================] - 2s 4ms/step - loss: 4434689536.0000 - mse: 4434689536.0000\n",
            "Epoch 80/100\n",
            "425/425 [==============================] - 1s 3ms/step - loss: 4481320448.0000 - mse: 4481320448.0000\n",
            "Epoch 81/100\n",
            "425/425 [==============================] - 2s 4ms/step - loss: 4458328576.0000 - mse: 4458328576.0000\n",
            "Epoch 82/100\n",
            "425/425 [==============================] - 1s 3ms/step - loss: 4462365696.0000 - mse: 4462365696.0000\n",
            "Epoch 83/100\n",
            "425/425 [==============================] - 1s 3ms/step - loss: 4365852672.0000 - mse: 4365852672.0000\n",
            "Epoch 84/100\n",
            "425/425 [==============================] - 2s 4ms/step - loss: 4394290688.0000 - mse: 4394290688.0000\n",
            "Epoch 85/100\n",
            "425/425 [==============================] - 1s 3ms/step - loss: 4466361856.0000 - mse: 4466361856.0000\n",
            "Epoch 86/100\n",
            "425/425 [==============================] - 3s 7ms/step - loss: 4393875968.0000 - mse: 4393875968.0000\n",
            "Epoch 87/100\n",
            "425/425 [==============================] - 2s 5ms/step - loss: 4446073344.0000 - mse: 4446073344.0000\n",
            "Epoch 88/100\n",
            "425/425 [==============================] - 2s 5ms/step - loss: 4367280128.0000 - mse: 4367280128.0000\n",
            "Epoch 89/100\n",
            "425/425 [==============================] - 2s 5ms/step - loss: 4433821184.0000 - mse: 4433821184.0000\n",
            "Epoch 90/100\n",
            "425/425 [==============================] - 2s 4ms/step - loss: 4418694656.0000 - mse: 4418694656.0000\n",
            "Epoch 91/100\n",
            "425/425 [==============================] - 2s 4ms/step - loss: 4486837248.0000 - mse: 4486837248.0000\n",
            "Epoch 92/100\n",
            "425/425 [==============================] - 3s 8ms/step - loss: 4427860480.0000 - mse: 4427860480.0000\n",
            "Epoch 93/100\n",
            "425/425 [==============================] - 1s 3ms/step - loss: 4360611328.0000 - mse: 4360611328.0000\n",
            "Epoch 94/100\n",
            "425/425 [==============================] - 1s 3ms/step - loss: 4392605696.0000 - mse: 4392605696.0000\n",
            "Epoch 95/100\n",
            "425/425 [==============================] - 1s 3ms/step - loss: 4395218432.0000 - mse: 4395218432.0000\n",
            "Epoch 96/100\n",
            "425/425 [==============================] - 1s 3ms/step - loss: 4447925760.0000 - mse: 4447925760.0000\n",
            "Epoch 97/100\n",
            "425/425 [==============================] - 1s 3ms/step - loss: 4355098112.0000 - mse: 4355098112.0000\n",
            "Epoch 98/100\n",
            "425/425 [==============================] - 1s 3ms/step - loss: 4357683712.0000 - mse: 4357683712.0000\n",
            "Epoch 99/100\n",
            "425/425 [==============================] - 1s 3ms/step - loss: 4319310336.0000 - mse: 4319310336.0000\n",
            "Epoch 100/100\n",
            "425/425 [==============================] - 1s 3ms/step - loss: 4404262400.0000 - mse: 4404262400.0000\n"
          ]
        }
      ]
    },
    {
      "cell_type": "code",
      "source": [
        "# Evaluate the model\n",
        "housing_model.evaluate(X_test, y_test)"
      ],
      "metadata": {
        "colab": {
          "base_uri": "https://localhost:8080/"
        },
        "id": "kfwJGa2PFoUt",
        "outputId": "1e9e8a32-0543-4ba7-d157-2ace27844ebc"
      },
      "execution_count": null,
      "outputs": [
        {
          "output_type": "stream",
          "name": "stdout",
          "text": [
            "107/107 [==============================] - 0s 2ms/step - loss: 4270445312.0000 - mse: 4270445312.0000\n"
          ]
        },
        {
          "output_type": "execute_result",
          "data": {
            "text/plain": [
              "[4270445312.0, 4270445312.0]"
            ]
          },
          "metadata": {},
          "execution_count": 27
        }
      ]
    },
    {
      "cell_type": "code",
      "source": [
        "# Lets visualize the learning rate or learning curve\n",
        "\n",
        "# Plot the model trained for 200 total epochs loss curves\n",
        "pd.DataFrame(history.history).plot()\n",
        "plt.ylabel(\"loss\")\n",
        "plt.xlabel(\"epochs\");"
      ],
      "metadata": {
        "colab": {
          "base_uri": "https://localhost:8080/",
          "height": 465
        },
        "id": "BA42Awb7FaP6",
        "outputId": "4f0bb1b8-d8d7-4705-c8db-e0e6acfa9f70"
      },
      "execution_count": null,
      "outputs": [
        {
          "output_type": "display_data",
          "data": {
            "text/plain": [
              "<Figure size 640x480 with 1 Axes>"
            ],
            "image/png": "[encoded data removed]"
          },
          "metadata": {}
        }
      ]
    },
    {
      "cell_type": "markdown",
      "source": [
        "### Now lets save our model"
      ],
      "metadata": {
        "id": "54RsMmwVF3x6"
      }
    },
    {
      "cell_type": "code",
      "source": [
        "# Using default SaverModel format\n",
        "housing_model.save('housing_model_SaverModel_format')"
      ],
      "metadata": {
        "id": "aB6Kj6LjF8WH"
      },
      "execution_count": null,
      "outputs": []
    },
    {
      "cell_type": "code",
      "source": [
        "# Using the HDF5 format (Although, HDF5 file format is considered legacy)\n",
        "housing_model.save('housing_model_HDF5_format.h5')\n",
        "\n",
        "# It's recommended to save using the native Keras format\n",
        "model.save('housing_model_Keras_format.keras')"
      ],
      "metadata": {
        "id": "cA0N8TgbGKJh"
      },
      "execution_count": null,
      "outputs": []
    },
    {
      "cell_type": "markdown",
      "source": [
        "### Loading models and check if they are the same as the saved one"
      ],
      "metadata": {
        "id": "mo6m5QtQHO-0"
      }
    },
    {
      "cell_type": "code",
      "source": [
        "# Loading the SaverModel formated model\n",
        "loaded_housing_model_1 = tf.keras.models.load_model('/content/housing_model_SaverModel_format')\n",
        "loaded_housing_model_1.summary()"
      ],
      "metadata": {
        "id": "sIlvrAcSHWM1"
      },
      "execution_count": null,
      "outputs": []
    },
    {
      "cell_type": "code",
      "source": [
        "# Loading the HDF5 format model\n",
        "loaded_housing_model_2 = tf.keras.models.load_model('/content/housing_model_HDF5_format.h5')\n",
        "loaded_housing_model_2.summary()"
      ],
      "metadata": {
        "id": "ygO1S24pH_S8"
      },
      "execution_count": null,
      "outputs": []
    },
    {
      "cell_type": "markdown",
      "source": [
        "### Downloading a model (from Google Colab)\n",
        "Say you wanted to get your model from Google Colab to your local machine, you can do one of the following things:\n",
        "\n",
        "Right click on the file in the files pane and click 'download'.\n",
        "Use the code below."
      ],
      "metadata": {
        "id": "UogHeBh-IaO_"
      }
    },
    {
      "cell_type": "code",
      "source": [
        "# Download the model (or any file) from Google Colab\n",
        "from google.colab import files\n",
        "files.download(\"housing_model_HDF5_format.h5\")"
      ],
      "metadata": {
        "colab": {
          "base_uri": "https://localhost:8080/",
          "height": 17
        },
        "id": "uopTQYrYIda5",
        "outputId": "3de7a4ec-9c35-49c9-8905-83de8b5cdb75"
      },
      "execution_count": null,
      "outputs": [
        {
          "output_type": "display_data",
          "data": {
            "text/plain": [
              "<IPython.core.display.Javascript object>"
            ],
            "application/javascript": [
              "\n",
              "    async function download(id, filename, size) {\n",
              "      if (!google.colab.kernel.accessAllowed) {\n",
              "        return;\n",
              "      }\n",
              "      const div = document.createElement('div');\n",
              "      const label = document.createElement('label');\n",
              "      label.textContent = `Downloading \"${filename}\": `;\n",
              "      div.appendChild(label);\n",
              "      const progress = document.createElement('progress');\n",
              "      progress.max = size;\n",
              "      div.appendChild(progress);\n",
              "      document.body.appendChild(div);\n",
              "\n",
              "      const buffers = [];\n",
              "      let downloaded = 0;\n",
              "\n",
              "      const channel = await google.colab.kernel.comms.open(id);\n",
              "      // Send a message to notify the kernel that we're ready.\n",
              "      channel.send({})\n",
              "\n",
              "      for await (const message of channel.messages) {\n",
              "        // Send a message to notify the kernel that we're ready.\n",
              "        channel.send({})\n",
              "        if (message.buffers) {\n",
              "          for (const buffer of message.buffers) {\n",
              "            buffers.push(buffer);\n",
              "            downloaded += buffer.byteLength;\n",
              "            progress.value = downloaded;\n",
              "          }\n",
              "        }\n",
              "      }\n",
              "      const blob = new Blob(buffers, {type: 'application/binary'});\n",
              "      const a = document.createElement('a');\n",
              "      a.href = window.URL.createObjectURL(blob);\n",
              "      a.download = filename;\n",
              "      div.appendChild(a);\n",
              "      a.click();\n",
              "      div.remove();\n",
              "    }\n",
              "  "
            ]
          },
          "metadata": {}
        },
        {
          "output_type": "display_data",
          "data": {
            "text/plain": [
              "<IPython.core.display.Javascript object>"
            ],
            "application/javascript": [
              "download(\"download_6ce5b4b6-468d-45d0-86ca-6a36a28191da\", \"housing_model_HDF5_format.h5\", 186248)"
            ]
          },
          "metadata": {}
        }
      ]
    },
    {
      "cell_type": "markdown",
      "source": [
        "# Building Large Model - Crop Yield Regression Problem\n",
        "\n",
        "**About Dataset**\n",
        "\n",
        "The dataset is from Kaggle, a publicly avialable dataset repository. The data represents the production of crops per area in India . It mainly has the area , production and yield statistics. It contains the data for various crops and how they are produced district , state and year wise.\n",
        "\n",
        "\n",
        "The developed regression model aims to predict crop yield based on various features such as state, district, crop, crop year, season, area, and production. This model can be valuable for farmers, agricultural researchers, and policymakers in understanding the factors influencing crop yield and making informed decisions.\n",
        "\n",
        "The model architecture consists of multiple dense layers with ReLU activations for the hidden layers and a linear activation for the output layer. This structure allows the model to learn complex non-linear relationships between the input features and the target variable."
      ],
      "metadata": {
        "id": "2-22jOzbL1o-"
      }
    },
    {
      "cell_type": "markdown",
      "source": [
        "### Preprocessing the data\n",
        "* Import libraries\n",
        "* Import the dataset\n",
        "* Handle missing values"
      ],
      "metadata": {
        "id": "PcQxIkRiSrX9"
      }
    },
    {
      "cell_type": "code",
      "source": [
        "# Importing libraries\n",
        "import pandas as pd\n",
        "import tensorflow as tf\n",
        "import matplotlib.pyplot as plt\n",
        "\n",
        "# Data Preprocessing\n",
        "# Importing dataset\n",
        "dataset = pd.read_csv('/content/drive/MyDrive/dataset/crop_yield/Crop_Production_Statistics.csv')\n",
        "dataset.dropna(inplace=True) # removes entries with missing element\n"
      ],
      "metadata": {
        "colab": {
          "base_uri": "https://localhost:8080/"
        },
        "id": "4fSpIsRANPTw",
        "outputId": "0b4fd560-6625-4da8-ba75-2076a26034a0"
      },
      "execution_count": null,
      "outputs": [
        {
          "output_type": "execute_result",
          "data": {
            "text/plain": [
              "Index(['State', 'District ', 'Crop', 'Crop_Year', 'Season', 'Area ',\n",
              "       'Production', 'Yield'],\n",
              "      dtype='object')"
            ]
          },
          "metadata": {},
          "execution_count": 21
        }
      ]
    },
    {
      "cell_type": "markdown",
      "source": [
        "### Feature Scaling (normalization and standardization)\n",
        "\n",
        "A common practice when working with neural networks is to make sure all of the data you pass to them is in the range 0 to 1.\n",
        "\n",
        "This practice is called **normalization** (scaling all values from their original range to, e.g. between 0 and 100,000 to be between 0 and 1).\n",
        "\n",
        "There is another process call **standardization** which converts all of your data to unit variance and 0 mean.\n",
        "\n",
        "These two practices are often part of a preprocessing pipeline (a series of functions to prepare your data for use with neural networks).\n",
        "\n",
        "Knowing this, some of the major steps you'll take to preprocess your data for a neural network include:\n",
        "* Turning all of your data to numbers (a neural network can't handle strings).\n",
        "* Making sure your data is in the right shape (verifying input and output shapes).\n",
        "* [**Feature scaling**](https://scikit-learn.org/stable/modules/preprocessing.html#preprocessing-scaler):\n",
        "    * Normalizing data (making sure all values are between 0 and 1). This is done by subtracting the minimum value then dividing by the maximum value minus the minimum. This is also referred to as min-max scaling.\n",
        "    * Standardization (making sure all values have a mean of 0 and a variance of 1). This is done by subtracting the mean value from the target feature and then dividing it by the standard deviation.\n",
        "    * Which one should you use?\n",
        "      * **With neural networks you'll tend to favour normalization** as they tend to prefer values between 0 and 1 (you'll see this espcially with image processing), however, you'll often find a neural network can perform pretty well with minimal feature scaling.\n",
        "  * The `make_column_transformer` function in scikit-learn is used to create a pipeline that applies different transformations to different columns of your data. It allows you to combine multiple transformers into a single pipeline, making it easier to pre-process your data before feeding it to a machine learning model. In our model we use this transformer to pipeline feature scaling and categorical encoding"
      ],
      "metadata": {
        "id": "JQNdWbPYSnjp"
      }
    },
    {
      "cell_type": "code",
      "source": [
        "# Feature Scaling and Categorical Encoding using One Hot Encoder\n",
        "from sklearn.compose import make_column_transformer\n",
        "from sklearn.preprocessing import MinMaxScaler, OneHotEncoder\n",
        "from sklearn.model_selection import train_test_split\n",
        "\n",
        "# Create a column transformer\n",
        "ct = make_column_transformer(\n",
        "    (MinMaxScaler(), ['Crop_Year', 'Area ', 'Production']),\n",
        "    (OneHotEncoder(handle_unknown='ignore'), ['State', 'District ', 'Crop', 'Season'])\n",
        ")\n",
        "\n",
        "# Create X & y\n",
        "X = dataset.drop(\"Yield\", axis=1)\n",
        "y = dataset[\"Yield\"]\n",
        "\n",
        "# Build the train and test sets (use random state to ensure same split as before)\n",
        "X_train, X_test, y_train, y_test = train_test_split(X, y, test_size=0.2, random_state=21)\n",
        "\n",
        "# Again from out training set we split the validation set\n",
        "X_train, X_val, y_train, y_val = train_test_split(X_train, y_train, test_size=0.2, random_state=21)\n",
        "\n",
        "# Fit column transformer on the training data only (doing so on test data would result in data leakage)\n",
        "ct.fit(X_train)\n",
        "\n",
        "# Transform training and test data with normalization (MinMaxScalar) and one hot encoding (OneHotEncoder)\n",
        "X_train_normal = ct.transform(X_train)\n",
        "X_test_normal = ct.transform(X_test)\n",
        "X_val_normal = ct.transform(X_val)"
      ],
      "metadata": {
        "id": "__4H-pVAS6Fo"
      },
      "execution_count": null,
      "outputs": []
    },
    {
      "cell_type": "markdown",
      "source": [
        "**Notice:**\n",
        "\n",
        "\n",
        "There occured an error while transforming the columns, it changed their object type into `SparseTensor`, which doesn't work with `Dense` layers, Therefore we needed to change the object type by converting the scaled and encoded data into dense type, in the following cell"
      ],
      "metadata": {
        "id": "AdDBOoXt957P"
      }
    },
    {
      "cell_type": "code",
      "source": [
        "# Convert the sets of SparseTensors into a format that can be supported by Dense layers\n",
        "X_train_dense = X_train_normal.toarray()\n",
        "X_val_dense = X_val_normal.toarray()\n",
        "X_test_dense = X_test_normal.toarray()"
      ],
      "metadata": {
        "id": "7P9tZpA_9tHr"
      },
      "execution_count": null,
      "outputs": []
    },
    {
      "cell_type": "markdown",
      "source": [
        "### Lets build our Deep Net Model with our preprocessed data\n",
        "Steps to build the model\n",
        "1. Create the model with Sequential API using only 2 Layers with 10 hidden unit at the first layer\n",
        "2. Compile the model with loss function of MSE and optimizer of SGD with default learning rate, we use the metrics of MSE\n",
        "3. Fit the model with our training set and validation set for 50 epochs\n",
        "\n",
        "* The `validation_data` argument is a tuple containing the validation data and the validation labels. The fit method will use the validation data to evaluate the model's performance during training"
      ],
      "metadata": {
        "id": "Hv3S1uluyHQ9"
      }
    },
    {
      "cell_type": "code",
      "source": [
        "# Set the seed to ensure reproduciblity\n",
        "tf.random.set_seed(21)\n",
        "\n",
        "# 1. Create the model\n",
        "crop_yield_model_1 = tf.keras.Sequential([\n",
        "    tf.keras.layers.Dense(10, activation='relu', input_shape=(X_train_normal.shape[1],)),\n",
        "    tf.keras.layers.Dense(1)\n",
        "])\n",
        "\n",
        "# 2. Compile the model\n",
        "crop_yield_model_1.compile(\n",
        "    loss=tf.keras.losses.MeanSquaredError(),\n",
        "    optimizer=tf.keras.optimizers.SGD(),\n",
        "    metrics=['mse']\n",
        ")\n",
        "\n",
        "# 3. Fit the model with train and validation set\n",
        "model_learning_history = crop_yield_model_1.fit(X_train_dense, y_train, epochs=5, validation_data=(X_val_dense , y_val))"
      ],
      "metadata": {
        "colab": {
          "base_uri": "https://localhost:8080/"
        },
        "id": "PQxfe5vL5kfa",
        "outputId": "25047230-29b7-4b36-b219-4088f5b88d44"
      },
      "execution_count": null,
      "outputs": [
        {
          "output_type": "stream",
          "name": "stdout",
          "text": [
            "Epoch 1/5\n",
            "6808/6808 [==============================] - 25s 4ms/step - loss: 877542.1875 - mse: 877542.1875 - val_loss: 833787.3750 - val_mse: 833787.3750\n",
            "Epoch 2/5\n",
            "6808/6808 [==============================] - 21s 3ms/step - loss: 876589.6250 - mse: 876589.6250 - val_loss: 833762.3750 - val_mse: 833762.3750\n",
            "Epoch 3/5\n",
            "6808/6808 [==============================] - 21s 3ms/step - loss: 876630.1250 - mse: 876630.1250 - val_loss: 833586.6875 - val_mse: 833586.6875\n",
            "Epoch 4/5\n",
            "6808/6808 [==============================] - 22s 3ms/step - loss: 876569.5625 - mse: 876569.5625 - val_loss: 834051.8750 - val_mse: 834051.8750\n",
            "Epoch 5/5\n",
            "6808/6808 [==============================] - 21s 3ms/step - loss: 876603.3125 - mse: 876603.3125 - val_loss: 833571.5625 - val_mse: 833571.5625\n"
          ]
        }
      ]
    },
    {
      "cell_type": "code",
      "source": [
        "# The next step is to evaluate our model against the test set\n",
        "y_pred = crop_yield_model_1.predict(X_test_dense)\n",
        "y_pred, X_test_dense"
      ],
      "metadata": {
        "colab": {
          "base_uri": "https://localhost:8080/"
        },
        "id": "32kTEJrx_HYf",
        "outputId": "4974b21e-5c80-4387-ff8f-a8f92ad51a75"
      },
      "execution_count": null,
      "outputs": [
        {
          "output_type": "stream",
          "name": "stdout",
          "text": [
            "2128/2128 [==============================] - 3s 2ms/step\n"
          ]
        },
        {
          "output_type": "execute_result",
          "data": {
            "text/plain": [
              "(array([[78.012566],\n",
              "        [78.012566],\n",
              "        [78.012566],\n",
              "        ...,\n",
              "        [78.012566],\n",
              "        [78.012566],\n",
              "        [78.012566]], dtype=float32),\n",
              " array([[1.30434783e-01, 3.55462058e-05, 1.02015271e-07, ...,\n",
              "         0.00000000e+00, 0.00000000e+00, 0.00000000e+00],\n",
              "        [5.21739130e-01, 5.39852683e-04, 1.12780073e-05, ...,\n",
              "         0.00000000e+00, 0.00000000e+00, 0.00000000e+00],\n",
              "        [3.91304348e-01, 9.17227073e-05, 2.67054700e-05, ...,\n",
              "         0.00000000e+00, 1.00000000e+00, 0.00000000e+00],\n",
              "        ...,\n",
              "        [1.73913043e-01, 1.51978415e-04, 1.27049693e-07, ...,\n",
              "         0.00000000e+00, 0.00000000e+00, 0.00000000e+00],\n",
              "        [6.08695652e-01, 3.11499750e-03, 2.16208537e-01, ...,\n",
              "         0.00000000e+00, 1.00000000e+00, 0.00000000e+00],\n",
              "        [3.04347826e-01, 1.16537103e-05, 6.25860558e-08, ...,\n",
              "         0.00000000e+00, 0.00000000e+00, 0.00000000e+00]]))"
            ]
          },
          "metadata": {},
          "execution_count": 57
        }
      ]
    },
    {
      "cell_type": "code",
      "source": [
        "# Checking the loss against the mean of the"
      ],
      "metadata": {
        "id": "Plv-Ft5oYCjG"
      },
      "execution_count": null,
      "outputs": []
    },
    {
      "source": [
        "# Visualizing the learning Curve\n",
        "import matplotlib.pyplot as plt\n",
        "\n",
        "# Plot the training loss and validation loss over time\n",
        "plt.plot(model_learning_history.history['loss'], label='Training Loss')\n",
        "plt.plot(model_learning_history.history['val_loss'], label='Validation Loss')\n",
        "plt.xlabel('Epoch')\n",
        "plt.ylabel('Loss')\n",
        "plt.legend()\n",
        "plt.show()"
      ],
      "cell_type": "code",
      "metadata": {
        "colab": {
          "base_uri": "https://localhost:8080/",
          "height": 449
        },
        "id": "h68L2tu0BX4W",
        "outputId": "96b52532-72aa-467b-e76d-99ed15035a4d"
      },
      "execution_count": null,
      "outputs": [
        {
          "output_type": "display_data",
          "data": {
            "text/plain": [
              "<Figure size 640x480 with 1 Axes>"
            ],
            "image/png": "[encoded data removed]"
          },
          "metadata": {}
        }
      ]
    },
    {
      "cell_type": "markdown",
      "source": [
        "### The Performance of the upper model is very bad and this needs to be improved"
      ],
      "metadata": {
        "id": "VYs13TEaaA8A"
      }
    },
    {
      "cell_type": "markdown",
      "source": [
        "## Improving our model\n",
        "The crucial hyperparameters to tune in order to improve the performance of our model include:\n",
        "\n",
        "1. Learning rate: The learning rate determines how quickly the model learns. A higher learning rate will lead to faster learning, but it can also lead to overfitting. A lower learning rate will lead to slower learning, but it can help to prevent overfitting.\n",
        "2. Number of epochs: The number of epochs determines how many times the model will train on the entire training dataset. A higher number of epochs will lead to better training, but it can also lead to overfitting. A lower number of epochs will lead to faster training, but it can result in underfitting.\n",
        "3. Batch size: The batch size determines how many samples the model will train on at each iteration. A larger batch size will lead to faster training, but it can also lead to overfitting. A smaller batch size will lead to slower training, but it can help to prevent overfitting.\n",
        "4. Regularization parameters: Regularization parameters control the complexity of the model. Higher regularization parameters will lead to a simpler model, which can help to prevent overfitting. Lower regularization parameters will lead to a more complex model, which can lead to better training.\n",
        "5. Early stopping is a technique used in machine learning to stop the training of a model when the model's performance on a validation set stops improving. This helps to prevent overfitting and can save time and resources.\n",
        "6. Optimizer: An optimizer is an algorithm that is used to update the parameters of a deep learning model. The goal of an optimizer is to minimize the loss function of the model. For a semi-complex regression deep net model, Adam is generally a better choice than SGD. This is because Adam is less sensitive to the learning rate and it can help to prevent overfitting\n",
        "7. Number of Layers and Neurons: Generally, Increasing the number of layers and neurons in a deep neural network can have the following effects:\n",
        "\n",
        "    * Increased accuracy: A deep neural network with more layers and neurons can learn more complex relationships in the data, which can lead to increased accuracy.\n",
        "    * Increased overfitting: A deep neural network with more layers and neurons is also more likely to overfit the training data. This is because the network has more parameters to learn, which gives it more opportunities to memorize the training data.\n",
        "    * Increased training time: A deep neural network with more layers and neurons will take longer to train. This is because the network has more parameters to update during each iteration of training.\n",
        "Therefore, the number of layers and neurons should be increased gradually: Don't double the number of layers or neurons all at once. Instead, increase the number of layers or neurons by a small amount and see how the performance of the model changes."
      ],
      "metadata": {
        "id": "zTXFtsNHIkUb"
      }
    },
    {
      "cell_type": "markdown",
      "source": [
        "### Building improved model"
      ],
      "metadata": {
        "id": "qon3-YMzWVHv"
      }
    },
    {
      "cell_type": "markdown",
      "source": [
        "### Techniques to improve\n",
        "\n",
        "* **Early stopping** works by monitoring the model's performance on a validation set after each epoch. If the model's performance on the validation set does not improve for a certain number of epochs, then the training is stopped. The patience parameter in early stopping is the number of epochs to wait for improvement in the model's performance on the validation set before stopping training.\n",
        "* **Regularization** works by adding a penalty term to the loss function of the model. This penalty term discourages the model from learning weights that are too large. As a result, the model is less likely to overfit the training data. There are two main types of regularization:\n",
        "\n",
        "    * L1 regularization: adds the absolute value of the weights to the loss function. This type of regularization is also known as Lasso regression.\n",
        "    * L2 regularization: adds the squared value of the weights to the loss function. This type of regularization is also known as Ridge regression.\n"
      ],
      "metadata": {
        "id": "wcuBD7DgF5hN"
      }
    },
    {
      "cell_type": "code",
      "source": [
        "# Checking the input (feature) shape\n",
        "(X_train_normal.shape[1],)"
      ],
      "metadata": {
        "colab": {
          "base_uri": "https://localhost:8080/"
        },
        "id": "TpfNogA8Xse9",
        "outputId": "5be7611b-9395-4217-d286-5c8416766341"
      },
      "execution_count": null,
      "outputs": [
        {
          "output_type": "execute_result",
          "data": {
            "text/plain": [
              "(804,)"
            ]
          },
          "metadata": {},
          "execution_count": 54
        }
      ]
    },
    {
      "cell_type": "code",
      "source": [
        "# Now get to work\n",
        "\n",
        "# Set seed\n",
        "tf.random.set_seed(21)\n",
        "\n",
        "# 1. Create our model\n",
        "crop_yield_model_2 = tf.keras.Sequential([\n",
        "    tf.keras.layers.Dense(128, activation='relu', input_shape=(X_train_normal.shape[1],)),\n",
        "    tf.keras.layers.Dense(64, activation='relu'),\n",
        "    tf.keras.layers.Dense(32, activation='relu'),\n",
        "    tf.keras.layers.Dense(16, activation='relu'),\n",
        "    tf.keras.layers.Dense(1)\n",
        "])\n",
        "\n",
        "# 2. Compile the model\n",
        "crop_yield_model_2.compile(loss='mean_squared_error',\n",
        "                           optimizer='adam',\n",
        "                           metrics=['mean_absolute_error'])\n",
        "\n",
        "# Early stopping\n",
        "early_stopping = tf.keras.callbacks.EarlyStopping(patience=10)\n",
        "\n",
        "# 3. Fit the model\n",
        "history = crop_yield_model_2.fit(X_train_dense, y_train, epochs=50,\n",
        "                       validation_data=(X_val_dense, y_val),\n",
        "                       callbacks=[early_stopping])"
      ],
      "metadata": {
        "colab": {
          "base_uri": "https://localhost:8080/"
        },
        "id": "sKj44qBPGwRC",
        "outputId": "c819f47d-bf0d-4e16-be51-e5904bbb448f"
      },
      "execution_count": null,
      "outputs": [
        {
          "output_type": "stream",
          "name": "stdout",
          "text": [
            "Epoch 1/50\n",
            "6808/6808 [==============================] - 31s 4ms/step - loss: 153449.2188 - mean_absolute_error: 31.9916 - val_loss: 99726.4531 - val_mean_absolute_error: 26.7852\n",
            "Epoch 2/50\n",
            "6808/6808 [==============================] - 31s 4ms/step - loss: 96140.6016 - mean_absolute_error: 22.4639 - val_loss: 78307.0156 - val_mean_absolute_error: 20.1772\n",
            "Epoch 3/50\n",
            "6808/6808 [==============================] - 30s 4ms/step - loss: 93621.1016 - mean_absolute_error: 21.5409 - val_loss: 80254.4375 - val_mean_absolute_error: 19.3738\n",
            "Epoch 4/50\n",
            "6808/6808 [==============================] - 30s 4ms/step - loss: 91735.6484 - mean_absolute_error: 20.8955 - val_loss: 76207.8203 - val_mean_absolute_error: 18.6772\n",
            "Epoch 5/50\n",
            "6808/6808 [==============================] - 30s 4ms/step - loss: 89048.4297 - mean_absolute_error: 20.2868 - val_loss: 75441.8359 - val_mean_absolute_error: 19.2725\n",
            "Epoch 6/50\n",
            "6808/6808 [==============================] - 28s 4ms/step - loss: 86846.7188 - mean_absolute_error: 19.8680 - val_loss: 113593.7344 - val_mean_absolute_error: 27.1669\n",
            "Epoch 7/50\n",
            "6808/6808 [==============================] - 29s 4ms/step - loss: 85995.8906 - mean_absolute_error: 19.8415 - val_loss: 71236.9688 - val_mean_absolute_error: 18.1051\n",
            "Epoch 8/50\n",
            "6808/6808 [==============================] - 29s 4ms/step - loss: 82000.7734 - mean_absolute_error: 19.1104 - val_loss: 72290.5625 - val_mean_absolute_error: 19.7909\n",
            "Epoch 9/50\n",
            "6808/6808 [==============================] - 32s 5ms/step - loss: 78070.3828 - mean_absolute_error: 18.6497 - val_loss: 62314.5078 - val_mean_absolute_error: 16.5322\n",
            "Epoch 10/50\n",
            "6808/6808 [==============================] - 30s 4ms/step - loss: 75776.2656 - mean_absolute_error: 18.0542 - val_loss: 60565.2539 - val_mean_absolute_error: 17.1659\n",
            "Epoch 11/50\n",
            "6808/6808 [==============================] - 29s 4ms/step - loss: 70975.1875 - mean_absolute_error: 17.5507 - val_loss: 54390.2422 - val_mean_absolute_error: 15.5343\n",
            "Epoch 12/50\n",
            "6808/6808 [==============================] - 31s 5ms/step - loss: 67892.6641 - mean_absolute_error: 17.0110 - val_loss: 58644.6992 - val_mean_absolute_error: 16.5408\n",
            "Epoch 13/50\n",
            "6808/6808 [==============================] - 29s 4ms/step - loss: 65465.3867 - mean_absolute_error: 16.8013 - val_loss: 58937.1523 - val_mean_absolute_error: 16.5161\n",
            "Epoch 14/50\n",
            "6808/6808 [==============================] - 32s 5ms/step - loss: 63383.2656 - mean_absolute_error: 16.5869 - val_loss: 62117.8984 - val_mean_absolute_error: 17.8968\n",
            "Epoch 15/50\n",
            "6808/6808 [==============================] - 31s 5ms/step - loss: 60832.3086 - mean_absolute_error: 16.2313 - val_loss: 62098.3047 - val_mean_absolute_error: 16.9955\n",
            "Epoch 16/50\n",
            "6808/6808 [==============================] - 31s 5ms/step - loss: 58857.3711 - mean_absolute_error: 15.8814 - val_loss: 50027.2266 - val_mean_absolute_error: 18.7392\n",
            "Epoch 17/50\n",
            "6808/6808 [==============================] - 31s 4ms/step - loss: 59370.4375 - mean_absolute_error: 15.8775 - val_loss: 48142.5859 - val_mean_absolute_error: 15.4061\n",
            "Epoch 18/50\n",
            "6808/6808 [==============================] - 33s 5ms/step - loss: 58779.6484 - mean_absolute_error: 15.5274 - val_loss: 49556.3359 - val_mean_absolute_error: 15.0961\n",
            "Epoch 19/50\n",
            "6808/6808 [==============================] - 30s 4ms/step - loss: 57413.9219 - mean_absolute_error: 15.6345 - val_loss: 50216.2148 - val_mean_absolute_error: 15.3138\n",
            "Epoch 20/50\n",
            "6808/6808 [==============================] - 30s 4ms/step - loss: 55099.5703 - mean_absolute_error: 15.4011 - val_loss: 47904.1562 - val_mean_absolute_error: 15.1296\n",
            "Epoch 21/50\n",
            "6808/6808 [==============================] - 28s 4ms/step - loss: 54879.7109 - mean_absolute_error: 15.4669 - val_loss: 44662.5156 - val_mean_absolute_error: 14.2785\n",
            "Epoch 22/50\n",
            "6808/6808 [==============================] - 31s 4ms/step - loss: 53092.8359 - mean_absolute_error: 15.3436 - val_loss: 44357.4375 - val_mean_absolute_error: 14.0942\n",
            "Epoch 23/50\n",
            "6808/6808 [==============================] - 31s 5ms/step - loss: 52796.7969 - mean_absolute_error: 15.0739 - val_loss: 46248.7305 - val_mean_absolute_error: 14.5680\n",
            "Epoch 24/50\n",
            "6808/6808 [==============================] - 28s 4ms/step - loss: 51759.2188 - mean_absolute_error: 14.9058 - val_loss: 43000.4648 - val_mean_absolute_error: 13.9440\n",
            "Epoch 25/50\n",
            "6808/6808 [==============================] - 28s 4ms/step - loss: 50642.4023 - mean_absolute_error: 14.7578 - val_loss: 42870.8477 - val_mean_absolute_error: 14.2143\n",
            "Epoch 26/50\n",
            "6808/6808 [==============================] - 30s 4ms/step - loss: 49543.0352 - mean_absolute_error: 14.6517 - val_loss: 40762.0547 - val_mean_absolute_error: 14.1372\n",
            "Epoch 27/50\n",
            "6808/6808 [==============================] - 30s 4ms/step - loss: 47724.9570 - mean_absolute_error: 14.7060 - val_loss: 47183.6797 - val_mean_absolute_error: 14.6102\n",
            "Epoch 28/50\n",
            "6808/6808 [==============================] - 30s 4ms/step - loss: 47293.7578 - mean_absolute_error: 14.3098 - val_loss: 41715.3164 - val_mean_absolute_error: 14.0278\n",
            "Epoch 29/50\n",
            "6808/6808 [==============================] - 28s 4ms/step - loss: 46309.5586 - mean_absolute_error: 14.1501 - val_loss: 38958.3008 - val_mean_absolute_error: 13.8654\n",
            "Epoch 30/50\n",
            "6808/6808 [==============================] - 30s 4ms/step - loss: 45051.9688 - mean_absolute_error: 13.9476 - val_loss: 55340.6602 - val_mean_absolute_error: 17.6834\n",
            "Epoch 31/50\n",
            "6808/6808 [==============================] - 28s 4ms/step - loss: 43994.9023 - mean_absolute_error: 13.8615 - val_loss: 43955.3047 - val_mean_absolute_error: 14.5847\n",
            "Epoch 32/50\n",
            "6808/6808 [==============================] - 31s 5ms/step - loss: 42718.3984 - mean_absolute_error: 13.7700 - val_loss: 38287.8203 - val_mean_absolute_error: 13.0729\n",
            "Epoch 33/50\n",
            "6808/6808 [==============================] - 28s 4ms/step - loss: 43443.3711 - mean_absolute_error: 13.3615 - val_loss: 36680.2969 - val_mean_absolute_error: 12.7040\n",
            "Epoch 34/50\n",
            "6808/6808 [==============================] - 28s 4ms/step - loss: 41026.8984 - mean_absolute_error: 13.1879 - val_loss: 39030.2969 - val_mean_absolute_error: 13.7163\n",
            "Epoch 35/50\n",
            "6808/6808 [==============================] - 28s 4ms/step - loss: 41501.6953 - mean_absolute_error: 13.1402 - val_loss: 38182.7422 - val_mean_absolute_error: 12.8483\n",
            "Epoch 36/50\n",
            "6808/6808 [==============================] - 28s 4ms/step - loss: 39798.6211 - mean_absolute_error: 13.1091 - val_loss: 38899.6562 - val_mean_absolute_error: 13.2134\n",
            "Epoch 37/50\n",
            "6808/6808 [==============================] - 31s 5ms/step - loss: 41065.6602 - mean_absolute_error: 13.0162 - val_loss: 40148.1641 - val_mean_absolute_error: 13.3578\n",
            "Epoch 38/50\n",
            "6808/6808 [==============================] - 30s 4ms/step - loss: 40200.4453 - mean_absolute_error: 12.9090 - val_loss: 44933.6953 - val_mean_absolute_error: 13.9205\n",
            "Epoch 39/50\n",
            "6808/6808 [==============================] - 28s 4ms/step - loss: 40194.5859 - mean_absolute_error: 12.9629 - val_loss: 41841.2227 - val_mean_absolute_error: 13.4985\n",
            "Epoch 40/50\n",
            "6808/6808 [==============================] - 30s 4ms/step - loss: 39192.6367 - mean_absolute_error: 12.7248 - val_loss: 41580.7422 - val_mean_absolute_error: 13.8744\n",
            "Epoch 41/50\n",
            "6808/6808 [==============================] - 28s 4ms/step - loss: 38826.6523 - mean_absolute_error: 12.5464 - val_loss: 40525.5312 - val_mean_absolute_error: 13.1902\n",
            "Epoch 42/50\n",
            "6808/6808 [==============================] - 31s 5ms/step - loss: 38074.2578 - mean_absolute_error: 12.4018 - val_loss: 59264.2812 - val_mean_absolute_error: 17.7826\n",
            "Epoch 43/50\n",
            "6808/6808 [==============================] - 30s 4ms/step - loss: 36983.2578 - mean_absolute_error: 12.3506 - val_loss: 40410.6641 - val_mean_absolute_error: 13.4140\n"
          ]
        }
      ]
    },
    {
      "cell_type": "markdown",
      "source": [
        "### Lets Evaluate our new and improved model (If its actually improved!?)"
      ],
      "metadata": {
        "id": "gUF7uGR4GzdH"
      }
    },
    {
      "cell_type": "code",
      "source": [
        "# Evaluate\n",
        "crop_yield_model_2.evaluate(X_test_dense, y_test)"
      ],
      "metadata": {
        "colab": {
          "base_uri": "https://localhost:8080/"
        },
        "id": "SQ4_KoyVk8dr",
        "outputId": "da3119a7-31b9-4526-cc4a-6e4b4d8fff48"
      },
      "execution_count": null,
      "outputs": [
        {
          "output_type": "stream",
          "name": "stdout",
          "text": [
            "2128/2128 [==============================] - 5s 2ms/step - loss: 41530.4766 - mean_absolute_error: 12.7263\n"
          ]
        },
        {
          "output_type": "execute_result",
          "data": {
            "text/plain": [
              "[41530.4765625, 12.726343154907227]"
            ]
          },
          "metadata": {},
          "execution_count": 62
        }
      ]
    },
    {
      "cell_type": "markdown",
      "source": [
        "**It seems like there's some improvement afterall**\n",
        "\n",
        "\n",
        "This is a good sign, lets visualize the learning curve"
      ],
      "metadata": {
        "id": "XFQQQ2b2lX_Y"
      }
    },
    {
      "cell_type": "code",
      "source": [
        "# Visualize the learning curve\n",
        "pd.DataFrame(history.history).plot()\n",
        "plt.ylabel(\"loss\")\n",
        "plt.xlabel(\"epochs\");"
      ],
      "metadata": {
        "colab": {
          "base_uri": "https://localhost:8080/",
          "height": 452
        },
        "id": "pdLipN4vljBO",
        "outputId": "857b272f-c506-487b-974f-ca7ebefb79ca"
      },
      "execution_count": null,
      "outputs": [
        {
          "output_type": "display_data",
          "data": {
            "text/plain": [
              "<Figure size 640x480 with 1 Axes>"
            ],
            "image/png": "[encoded data removed]"
          },
          "metadata": {}
        }
      ]
    }
  ]
}